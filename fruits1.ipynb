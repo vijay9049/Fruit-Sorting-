{
  "cells": [
    {
      "cell_type": "markdown",
      "metadata": {
        "id": "167jkEZ4MAdG"
      },
      "source": [
        "#Importing Dataset"
      ]
    },
    {
      "cell_type": "code",
      "execution_count": null,
      "metadata": {
        "colab": {
          "base_uri": "https://localhost:8080/"
        },
        "id": "-SAG0Lr65kdA",
        "outputId": "605e1982-e84e-4251-a795-fb35757f3bd4"
      },
      "outputs": [
        {
          "output_type": "stream",
          "name": "stdout",
          "text": [
            "Drive already mounted at /content/drive; to attempt to forcibly remount, call drive.mount(\"/content/drive\", force_remount=True).\n"
          ]
        }
      ],
      "source": [
        "from google.colab import drive\n",
        "drive.mount('/content/drive')"
      ]
    },
    {
      "cell_type": "markdown",
      "metadata": {
        "id": "nBFwUNH8MC-q"
      },
      "source": [
        "#Importing libraries"
      ]
    },
    {
      "cell_type": "code",
      "execution_count": null,
      "metadata": {
        "id": "YKfkVlSj5lyJ"
      },
      "outputs": [],
      "source": [
        "import tensorflow as tf\n",
        "import matplotlib.pyplot as plt"
      ]
    },
    {
      "cell_type": "markdown",
      "metadata": {
        "id": "P5Vtl_woMI84"
      },
      "source": [
        "#Data Preprocessing"
      ]
    },
    {
      "cell_type": "markdown",
      "metadata": {
        "id": "xee_4IfzL0Dx"
      },
      "source": [
        "#Training Image preprocessing"
      ]
    },
    {
      "cell_type": "code",
      "execution_count": null,
      "metadata": {
        "colab": {
          "base_uri": "https://localhost:8080/"
        },
        "id": "TFEe7MMp5uJn",
        "outputId": "ee7e139f-dc10-4121-8206-5b3801d51891"
      },
      "outputs": [
        {
          "output_type": "stream",
          "name": "stdout",
          "text": [
            "Found 7567 files belonging to 8 classes.\n"
          ]
        }
      ],
      "source": [
        "training_set = tf.keras.utils.image_dataset_from_directory(\n",
        "    '/content/drive/MyDrive/archive (3)/train',\n",
        "    labels=\"inferred\",\n",
        "    label_mode=\"categorical\",\n",
        "    class_names=None,\n",
        "    color_mode=\"rgb\",\n",
        "    batch_size=32,\n",
        "    image_size=(64, 64),\n",
        "    shuffle=True,\n",
        "    seed=None,\n",
        "    validation_split=None,\n",
        "    subset=None,\n",
        "    interpolation=\"bilinear\",\n",
        "    follow_links=False,\n",
        "    crop_to_aspect_ratio=False\n",
        ")"
      ]
    },
    {
      "cell_type": "markdown",
      "metadata": {
        "id": "s-PC6uwzMbIJ"
      },
      "source": [
        "#Validation Image Preprocessing"
      ]
    },
    {
      "cell_type": "code",
      "execution_count": null,
      "metadata": {
        "colab": {
          "base_uri": "https://localhost:8080/"
        },
        "id": "qBPwQYtZ57kR",
        "outputId": "b88ceb81-d97b-4699-929a-15c9ff8d8df1"
      },
      "outputs": [
        {
          "output_type": "stream",
          "name": "stdout",
          "text": [
            "Found 7545 files belonging to 8 classes.\n"
          ]
        }
      ],
      "source": [
        "validation_set = tf.keras.utils.image_dataset_from_directory(\n",
        "    '/content/drive/MyDrive/archive (3)/validation',\n",
        "    labels=\"inferred\",\n",
        "    label_mode=\"categorical\",\n",
        "    class_names=None,\n",
        "    color_mode=\"rgb\",\n",
        "    batch_size=32,\n",
        "    image_size=(64, 64),\n",
        "    shuffle=True,\n",
        "    seed=None,\n",
        "    validation_split=None,\n",
        "    subset=None,\n",
        "    interpolation=\"bilinear\",\n",
        "    follow_links=False,\n",
        "    crop_to_aspect_ratio=False\n",
        ")"
      ]
    },
    {
      "cell_type": "markdown",
      "metadata": {
        "id": "L_M9IyZCMlkP"
      },
      "source": [
        "#Building Model"
      ]
    },
    {
      "cell_type": "code",
      "execution_count": null,
      "metadata": {
        "id": "YHWgSmyT6AIp"
      },
      "outputs": [],
      "source": [
        "\n",
        "cnn = tf.keras.models.Sequential()"
      ]
    },
    {
      "cell_type": "markdown",
      "metadata": {
        "id": "DC19DCQDMqV3"
      },
      "source": [
        "#Building Convolution Layer"
      ]
    },
    {
      "cell_type": "code",
      "execution_count": null,
      "metadata": {
        "id": "m7ZCZcp46CQP"
      },
      "outputs": [],
      "source": [
        "cnn.add(tf.keras.layers.Conv2D(filters=32,kernel_size=3,padding='same',activation='relu',input_shape=[64,64,3]))\n",
        "cnn.add(tf.keras.layers.Conv2D(filters=32,kernel_size=3,activation='relu'))\n",
        "cnn.add(tf.keras.layers.MaxPool2D(pool_size=2,strides=2))\n"
      ]
    },
    {
      "cell_type": "code",
      "execution_count": null,
      "metadata": {
        "id": "fxwcDhBs6LJ_"
      },
      "outputs": [],
      "source": [
        "\n",
        "cnn.add(tf.keras.layers.Dropout(0.25))\n"
      ]
    },
    {
      "cell_type": "code",
      "execution_count": null,
      "metadata": {
        "id": "_Cw_XgQ86Pwb"
      },
      "outputs": [],
      "source": [
        "cnn.add(tf.keras.layers.Conv2D(filters=64,kernel_size=3,padding='same',activation='relu'))\n",
        "cnn.add(tf.keras.layers.Conv2D(filters=64,kernel_size=3,activation='relu'))\n",
        "cnn.add(tf.keras.layers.MaxPool2D(pool_size=2,strides=2))"
      ]
    },
    {
      "cell_type": "code",
      "execution_count": null,
      "metadata": {
        "id": "f2BMVeDP6Thp"
      },
      "outputs": [],
      "source": [
        "cnn.add(tf.keras.layers.Dropout(0.25))"
      ]
    },
    {
      "cell_type": "code",
      "execution_count": null,
      "metadata": {
        "id": "hjMVscSG6Wb8"
      },
      "outputs": [],
      "source": [
        "\n",
        "cnn.add(tf.keras.layers.Flatten())"
      ]
    },
    {
      "cell_type": "code",
      "execution_count": null,
      "metadata": {
        "id": "MsOXINzS6cZX"
      },
      "outputs": [],
      "source": [
        "cnn.add(tf.keras.layers.Dense(units=512,activation='relu'))\n"
      ]
    },
    {
      "cell_type": "code",
      "execution_count": null,
      "metadata": {
        "id": "L8qsS1Tw6fMl"
      },
      "outputs": [],
      "source": [
        "cnn.add(tf.keras.layers.Dense(units=256,activation='relu'))"
      ]
    },
    {
      "cell_type": "code",
      "execution_count": null,
      "metadata": {
        "id": "SSGTJGfC6ixH"
      },
      "outputs": [],
      "source": [
        "cnn.add(tf.keras.layers.Dropout(0.5)) #To avoid overfitting\n"
      ]
    },
    {
      "cell_type": "code",
      "execution_count": null,
      "metadata": {
        "id": "39O2QisG6lwV"
      },
      "outputs": [],
      "source": [
        "#Output Layer\n",
        "cnn.add(tf.keras.layers.Dense(units=8,activation='softmax'))\n"
      ]
    },
    {
      "cell_type": "markdown",
      "metadata": {
        "id": "xxUSDXgCMze6"
      },
      "source": [
        "#Building Convolution Layer"
      ]
    },
    {
      "cell_type": "code",
      "execution_count": null,
      "metadata": {
        "id": "34MynHUO6qeg"
      },
      "outputs": [],
      "source": [
        "cnn.compile(optimizer='adam',loss='categorical_crossentropy',metrics=['accuracy'])"
      ]
    },
    {
      "cell_type": "code",
      "execution_count": null,
      "metadata": {
        "colab": {
          "base_uri": "https://localhost:8080/"
        },
        "id": "k8ZS5RKd6tGL",
        "outputId": "eaead193-795d-421c-d87f-7372024a5a9a"
      },
      "outputs": [
        {
          "output_type": "stream",
          "name": "stdout",
          "text": [
            "Model: \"sequential\"\n",
            "_________________________________________________________________\n",
            " Layer (type)                Output Shape              Param #   \n",
            "=================================================================\n",
            " conv2d (Conv2D)             (None, 64, 64, 32)        896       \n",
            "                                                                 \n",
            " conv2d_1 (Conv2D)           (None, 62, 62, 32)        9248      \n",
            "                                                                 \n",
            " max_pooling2d (MaxPooling2  (None, 31, 31, 32)        0         \n",
            " D)                                                              \n",
            "                                                                 \n",
            " dropout (Dropout)           (None, 31, 31, 32)        0         \n",
            "                                                                 \n",
            " conv2d_2 (Conv2D)           (None, 31, 31, 64)        18496     \n",
            "                                                                 \n",
            " conv2d_3 (Conv2D)           (None, 29, 29, 64)        36928     \n",
            "                                                                 \n",
            " max_pooling2d_1 (MaxPoolin  (None, 14, 14, 64)        0         \n",
            " g2D)                                                            \n",
            "                                                                 \n",
            " dropout_1 (Dropout)         (None, 14, 14, 64)        0         \n",
            "                                                                 \n",
            " flatten (Flatten)           (None, 12544)             0         \n",
            "                                                                 \n",
            " dense (Dense)               (None, 512)               6423040   \n",
            "                                                                 \n",
            " dense_1 (Dense)             (None, 256)               131328    \n",
            "                                                                 \n",
            " dropout_2 (Dropout)         (None, 256)               0         \n",
            "                                                                 \n",
            " dense_2 (Dense)             (None, 8)                 2056      \n",
            "                                                                 \n",
            "=================================================================\n",
            "Total params: 6621992 (25.26 MB)\n",
            "Trainable params: 6621992 (25.26 MB)\n",
            "Non-trainable params: 0 (0.00 Byte)\n",
            "_________________________________________________________________\n"
          ]
        }
      ],
      "source": [
        "\n",
        "cnn.summary()"
      ]
    },
    {
      "cell_type": "code",
      "execution_count": null,
      "metadata": {
        "colab": {
          "base_uri": "https://localhost:8080/"
        },
        "id": "J3Apw_N96xoh",
        "outputId": "dd5f0d5e-6bd9-4ddc-c3bd-d685bd8db45d"
      },
      "outputs": [
        {
          "output_type": "stream",
          "name": "stdout",
          "text": [
            "Epoch 1/32\n",
            "237/237 [==============================] - 272s 1s/step - loss: 3.9271 - accuracy: 0.4615 - val_loss: 0.7804 - val_accuracy: 0.7474\n",
            "Epoch 2/32\n",
            "237/237 [==============================] - 280s 1s/step - loss: 0.7727 - accuracy: 0.7316 - val_loss: 0.3549 - val_accuracy: 0.8757\n",
            "Epoch 3/32\n",
            "237/237 [==============================] - 243s 1s/step - loss: 0.4453 - accuracy: 0.8540 - val_loss: 0.1569 - val_accuracy: 0.9504\n",
            "Epoch 4/32\n",
            "237/237 [==============================] - 264s 1s/step - loss: 0.3273 - accuracy: 0.8869 - val_loss: 0.1288 - val_accuracy: 0.9597\n",
            "Epoch 5/32\n",
            "237/237 [==============================] - 264s 1s/step - loss: 0.1979 - accuracy: 0.9321 - val_loss: 0.1096 - val_accuracy: 0.9690\n",
            "Epoch 6/32\n",
            "237/237 [==============================] - 268s 1s/step - loss: 0.1742 - accuracy: 0.9420 - val_loss: 0.0965 - val_accuracy: 0.9715\n",
            "Epoch 7/32\n",
            "237/237 [==============================] - 247s 1s/step - loss: 0.1353 - accuracy: 0.9551 - val_loss: 0.0584 - val_accuracy: 0.9797\n",
            "Epoch 8/32\n",
            "237/237 [==============================] - 237s 1s/step - loss: 0.1585 - accuracy: 0.9526 - val_loss: 0.0310 - val_accuracy: 0.9910\n",
            "Epoch 9/32\n",
            "237/237 [==============================] - 270s 1s/step - loss: 0.0950 - accuracy: 0.9730 - val_loss: 0.0155 - val_accuracy: 0.9964\n",
            "Epoch 10/32\n",
            "237/237 [==============================] - 266s 1s/step - loss: 0.0899 - accuracy: 0.9717 - val_loss: 0.0414 - val_accuracy: 0.9857\n",
            "Epoch 11/32\n",
            "237/237 [==============================] - 261s 1s/step - loss: 0.0741 - accuracy: 0.9783 - val_loss: 0.0294 - val_accuracy: 0.9922\n",
            "Epoch 12/32\n",
            "237/237 [==============================] - 324s 1s/step - loss: 0.0861 - accuracy: 0.9729 - val_loss: 0.0321 - val_accuracy: 0.9899\n",
            "Epoch 13/32\n",
            "237/237 [==============================] - 264s 1s/step - loss: 0.0788 - accuracy: 0.9781 - val_loss: 0.0115 - val_accuracy: 0.9963\n",
            "Epoch 14/32\n",
            "237/237 [==============================] - 235s 991ms/step - loss: 0.1248 - accuracy: 0.9664 - val_loss: 0.0266 - val_accuracy: 0.9915\n",
            "Epoch 15/32\n",
            "237/237 [==============================] - 269s 1s/step - loss: 0.0639 - accuracy: 0.9830 - val_loss: 0.0358 - val_accuracy: 0.9891\n",
            "Epoch 16/32\n",
            "237/237 [==============================] - 261s 1s/step - loss: 0.1120 - accuracy: 0.9689 - val_loss: 0.0125 - val_accuracy: 0.9967\n",
            "Epoch 17/32\n",
            "237/237 [==============================] - 261s 1s/step - loss: 0.0383 - accuracy: 0.9865 - val_loss: 0.0363 - val_accuracy: 0.9902\n",
            "Epoch 18/32\n",
            "237/237 [==============================] - 266s 1s/step - loss: 0.0872 - accuracy: 0.9774 - val_loss: 0.0071 - val_accuracy: 0.9981\n",
            "Epoch 19/32\n",
            "237/237 [==============================] - 241s 1s/step - loss: 0.1427 - accuracy: 0.9685 - val_loss: 0.0516 - val_accuracy: 0.9863\n",
            "Epoch 20/32\n",
            "237/237 [==============================] - 237s 998ms/step - loss: 0.1405 - accuracy: 0.9606 - val_loss: 0.0242 - val_accuracy: 0.9934\n",
            "Epoch 21/32\n",
            "237/237 [==============================] - 270s 1s/step - loss: 0.0546 - accuracy: 0.9830 - val_loss: 0.0091 - val_accuracy: 0.9976\n",
            "Epoch 22/32\n",
            "237/237 [==============================] - 275s 1s/step - loss: 0.0325 - accuracy: 0.9901 - val_loss: 0.0026 - val_accuracy: 0.9991\n",
            "Epoch 23/32\n",
            "237/237 [==============================] - 238s 1s/step - loss: 0.0509 - accuracy: 0.9861 - val_loss: 0.0260 - val_accuracy: 0.9927\n",
            "Epoch 24/32\n",
            "237/237 [==============================] - 233s 982ms/step - loss: 0.0681 - accuracy: 0.9826 - val_loss: 0.0292 - val_accuracy: 0.9910\n",
            "Epoch 25/32\n",
            "237/237 [==============================] - 267s 1s/step - loss: 0.0947 - accuracy: 0.9762 - val_loss: 0.0219 - val_accuracy: 0.9936\n",
            "Epoch 26/32\n",
            "237/237 [==============================] - 263s 1s/step - loss: 0.0535 - accuracy: 0.9855 - val_loss: 0.0076 - val_accuracy: 0.9973\n",
            "Epoch 27/32\n",
            "237/237 [==============================] - 234s 986ms/step - loss: 0.0383 - accuracy: 0.9904 - val_loss: 0.0429 - val_accuracy: 0.9873\n",
            "Epoch 28/32\n",
            "237/237 [==============================] - 268s 1s/step - loss: 0.0618 - accuracy: 0.9830 - val_loss: 0.0493 - val_accuracy: 0.9873\n",
            "Epoch 29/32\n",
            "237/237 [==============================] - 239s 1s/step - loss: 0.0741 - accuracy: 0.9807 - val_loss: 0.0246 - val_accuracy: 0.9934\n",
            "Epoch 30/32\n",
            "237/237 [==============================] - 240s 1s/step - loss: 0.0751 - accuracy: 0.9830 - val_loss: 0.0157 - val_accuracy: 0.9954\n",
            "Epoch 31/32\n",
            "237/237 [==============================] - 273s 1s/step - loss: 0.0501 - accuracy: 0.9849 - val_loss: 0.0298 - val_accuracy: 0.9924\n",
            "Epoch 32/32\n",
            "237/237 [==============================] - 272s 1s/step - loss: 0.0858 - accuracy: 0.9789 - val_loss: 0.0248 - val_accuracy: 0.9936\n"
          ]
        }
      ],
      "source": [
        "training_history = cnn.fit(x=training_set,validation_data=validation_set,epochs=32)"
      ]
    },
    {
      "cell_type": "markdown",
      "metadata": {
        "id": "LWLxOsdRNF-_"
      },
      "source": [
        "#Evaluating Model"
      ]
    },
    {
      "cell_type": "code",
      "execution_count": null,
      "metadata": {
        "colab": {
          "base_uri": "https://localhost:8080/"
        },
        "id": "KMJFiyj363J-",
        "outputId": "29af31f4-ea49-480d-de5e-448b7c59162a"
      },
      "outputs": [
        {
          "output_type": "stream",
          "name": "stdout",
          "text": [
            "237/237 [==============================] - 57s 236ms/step - loss: 0.0248 - accuracy: 0.9937\n",
            "Training accuracy: 0.9936566948890686\n"
          ]
        }
      ],
      "source": [
        "#Training set Accuracy\n",
        "train_loss, train_acc = cnn.evaluate(training_set)\n",
        "print('Training accuracy:', train_acc)"
      ]
    },
    {
      "cell_type": "code",
      "execution_count": null,
      "metadata": {
        "colab": {
          "base_uri": "https://localhost:8080/"
        },
        "id": "R9OiCJTF652q",
        "outputId": "9a61f919-91d5-48da-bd80-3b52398e6bef"
      },
      "outputs": [
        {
          "output_type": "stream",
          "name": "stdout",
          "text": [
            "236/236 [==============================] - 57s 238ms/step - loss: 0.0248 - accuracy: 0.9936\n",
            "Validation accuracy: 0.9936381578445435\n"
          ]
        }
      ],
      "source": [
        "#Validation set Accuracy\n",
        "val_loss, val_acc = cnn.evaluate(validation_set)\n",
        "print('Validation accuracy:', val_acc)\n"
      ]
    },
    {
      "cell_type": "markdown",
      "metadata": {
        "id": "g6GwajBFNOkx"
      },
      "source": [
        "#Saving Model"
      ]
    },
    {
      "cell_type": "code",
      "execution_count": null,
      "metadata": {
        "id": "0WqF96p569K9",
        "colab": {
          "base_uri": "https://localhost:8080/"
        },
        "outputId": "acfd1d18-9d50-4d40-f5e9-49830a456533"
      },
      "outputs": [
        {
          "output_type": "stream",
          "name": "stderr",
          "text": [
            "/usr/local/lib/python3.10/dist-packages/keras/src/engine/training.py:3079: UserWarning: You are saving your model as an HDF5 file via `model.save()`. This file format is considered legacy. We recommend using instead the native Keras format, e.g. `model.save('my_model.keras')`.\n",
            "  saving_api.save_model(\n"
          ]
        }
      ],
      "source": [
        "\n",
        "cnn.save('trained_model.h5')"
      ]
    },
    {
      "cell_type": "code",
      "execution_count": null,
      "metadata": {
        "colab": {
          "base_uri": "https://localhost:8080/"
        },
        "id": "YeYBD1lJ7A6c",
        "outputId": "2c0a34e5-13e1-4cd7-9b46-7a9fb8a639c0"
      },
      "outputs": [
        {
          "output_type": "execute_result",
          "data": {
            "text/plain": [
              "{'loss': [3.9270615577697754,\n",
              "  0.7727115750312805,\n",
              "  0.44525158405303955,\n",
              "  0.32732611894607544,\n",
              "  0.1979358196258545,\n",
              "  0.1741815209388733,\n",
              "  0.13533836603164673,\n",
              "  0.15850457549095154,\n",
              "  0.09504224359989166,\n",
              "  0.0899100974202156,\n",
              "  0.07406041771173477,\n",
              "  0.08607829362154007,\n",
              "  0.07880470901727676,\n",
              "  0.12483957409858704,\n",
              "  0.06385061144828796,\n",
              "  0.11203642934560776,\n",
              "  0.038291361182928085,\n",
              "  0.08718067407608032,\n",
              "  0.14270660281181335,\n",
              "  0.14048005640506744,\n",
              "  0.05462389066815376,\n",
              "  0.03251964598894119,\n",
              "  0.05085409805178642,\n",
              "  0.06807834655046463,\n",
              "  0.094742551445961,\n",
              "  0.05349761247634888,\n",
              "  0.03825968876481056,\n",
              "  0.061830032616853714,\n",
              "  0.07407847791910172,\n",
              "  0.0750933364033699,\n",
              "  0.05005570873618126,\n",
              "  0.08578838407993317],\n",
              " 'accuracy': [0.46147745847702026,\n",
              "  0.7315977215766907,\n",
              "  0.8539711833000183,\n",
              "  0.8868772387504578,\n",
              "  0.9320734739303589,\n",
              "  0.9419849514961243,\n",
              "  0.955068051815033,\n",
              "  0.9525571465492249,\n",
              "  0.9730408191680908,\n",
              "  0.9717193245887756,\n",
              "  0.9783269166946411,\n",
              "  0.9729086756706238,\n",
              "  0.978062629699707,\n",
              "  0.9664331674575806,\n",
              "  0.9829522967338562,\n",
              "  0.9689440727233887,\n",
              "  0.9865204095840454,\n",
              "  0.977401852607727,\n",
              "  0.9685476422309875,\n",
              "  0.9606184959411621,\n",
              "  0.9829522967338562,\n",
              "  0.9900885224342346,\n",
              "  0.9861239790916443,\n",
              "  0.9825558066368103,\n",
              "  0.9762125015258789,\n",
              "  0.9854632019996643,\n",
              "  0.9903528690338135,\n",
              "  0.9829522967338562,\n",
              "  0.9807056784629822,\n",
              "  0.9829522967338562,\n",
              "  0.9849345684051514,\n",
              "  0.978855550289154],\n",
              " 'val_loss': [0.7804059982299805,\n",
              "  0.354936808347702,\n",
              "  0.15690548717975616,\n",
              "  0.12884649634361267,\n",
              "  0.10957673192024231,\n",
              "  0.09654016047716141,\n",
              "  0.05835697427392006,\n",
              "  0.030991382896900177,\n",
              "  0.015494141727685928,\n",
              "  0.041380710899829865,\n",
              "  0.02938265912234783,\n",
              "  0.03209073841571808,\n",
              "  0.011524330824613571,\n",
              "  0.02655768394470215,\n",
              "  0.035778723657131195,\n",
              "  0.012533807195723057,\n",
              "  0.036279212683439255,\n",
              "  0.007066277787089348,\n",
              "  0.05163347348570824,\n",
              "  0.02415981888771057,\n",
              "  0.009145056828856468,\n",
              "  0.002647276734933257,\n",
              "  0.02598775364458561,\n",
              "  0.029188474640250206,\n",
              "  0.021942906081676483,\n",
              "  0.007577295880764723,\n",
              "  0.042944926768541336,\n",
              "  0.04926079139113426,\n",
              "  0.024580519646406174,\n",
              "  0.01567397639155388,\n",
              "  0.029836421832442284,\n",
              "  0.02477993629872799],\n",
              " 'val_accuracy': [0.7473823428153992,\n",
              "  0.8756792545318604,\n",
              "  0.9504307508468628,\n",
              "  0.9597083926200867,\n",
              "  0.9689860939979553,\n",
              "  0.9715043306350708,\n",
              "  0.9797216653823853,\n",
              "  0.9909874200820923,\n",
              "  0.9964214563369751,\n",
              "  0.9856858849525452,\n",
              "  0.9921802282333374,\n",
              "  0.9899271130561829,\n",
              "  0.9962889552116394,\n",
              "  0.9915175437927246,\n",
              "  0.9891318678855896,\n",
              "  0.9966865181922913,\n",
              "  0.990192174911499,\n",
              "  0.9981444478034973,\n",
              "  0.986348569393158,\n",
              "  0.9933730959892273,\n",
              "  0.997614324092865,\n",
              "  0.999072253704071,\n",
              "  0.9927104115486145,\n",
              "  0.9909874200820923,\n",
              "  0.9936381578445435,\n",
              "  0.9973492622375488,\n",
              "  0.9872763156890869,\n",
              "  0.9872763156890869,\n",
              "  0.9933730959892273,\n",
              "  0.9953611493110657,\n",
              "  0.9924453496932983,\n",
              "  0.9936381578445435]}"
            ]
          },
          "metadata": {},
          "execution_count": 21
        }
      ],
      "source": [
        "\n",
        "training_history.history #Return Dictionary of history"
      ]
    },
    {
      "cell_type": "code",
      "execution_count": null,
      "metadata": {
        "id": "kRUZ6opu7FNw"
      },
      "outputs": [],
      "source": [
        "\n",
        "#Recording History in json\n",
        "import json\n",
        "with open('training_hist.json','w') as f:\n",
        "  json.dump(training_history.history,f)"
      ]
    },
    {
      "cell_type": "code",
      "execution_count": null,
      "metadata": {
        "colab": {
          "base_uri": "https://localhost:8080/"
        },
        "id": "en75Hr707IKb",
        "outputId": "ca7868f0-6899-461f-a25e-d79e1e882510"
      },
      "outputs": [
        {
          "output_type": "stream",
          "name": "stdout",
          "text": [
            "dict_keys(['loss', 'accuracy', 'val_loss', 'val_accuracy'])\n"
          ]
        }
      ],
      "source": [
        "print(training_history.history.keys())"
      ]
    },
    {
      "cell_type": "markdown",
      "metadata": {
        "id": "T5Sd5J68NYEM"
      },
      "source": [
        "#Calculating Accuracy of Model Achieved on Validation set"
      ]
    },
    {
      "cell_type": "code",
      "execution_count": null,
      "metadata": {
        "colab": {
          "base_uri": "https://localhost:8080/"
        },
        "id": "p0ZFDGVJ7LLN",
        "outputId": "3975bb95-714a-4d4e-ab8a-d6aaedf96d31"
      },
      "outputs": [
        {
          "output_type": "stream",
          "name": "stdout",
          "text": [
            "Validation set Accuracy: 99.36381578445435 %\n"
          ]
        }
      ],
      "source": [
        "print(\"Validation set Accuracy: {} %\".format(training_history.history['val_accuracy'][-1]*100))\n"
      ]
    },
    {
      "cell_type": "markdown",
      "metadata": {
        "id": "QgJgIrVLNeLw"
      },
      "source": [
        "#Accuracy Visualization"
      ]
    },
    {
      "cell_type": "markdown",
      "metadata": {
        "id": "zKTm8bKrNh1u"
      },
      "source": [
        "#Training Visualization\n"
      ]
    },
    {
      "cell_type": "code",
      "execution_count": null,
      "metadata": {
        "id": "Ze69z44i7O65"
      },
      "outputs": [],
      "source": [
        "#training_history.history['accuracy']"
      ]
    },
    {
      "cell_type": "code",
      "execution_count": null,
      "metadata": {
        "colab": {
          "base_uri": "https://localhost:8080/",
          "height": 472
        },
        "id": "348ZwXu97SAo",
        "outputId": "4606d0a4-dbc3-426a-eb42-3965c5dbc6b0"
      },
      "outputs": [
        {
          "output_type": "display_data",
          "data": {
            "text/plain": [
              "<Figure size 640x480 with 1 Axes>"
            ],
            "image/png": "[encoded data removed]"
          },
          "metadata": {}
        }
      ],
      "source": [
        "epochs = [i for i in range(1,33)]\n",
        "plt.plot(epochs,training_history.history['accuracy'],color='red')\n",
        "plt.xlabel('No. of Epochs')\n",
        "plt.ylabel('Traiining Accuracy')\n",
        "plt.title('Visualization of Training Accuracy Result')\n",
        "plt.show()"
      ]
    },
    {
      "cell_type": "markdown",
      "metadata": {
        "id": "gK7-I1E_NrKM"
      },
      "source": [
        "#Validation Accuracy"
      ]
    },
    {
      "cell_type": "code",
      "execution_count": null,
      "metadata": {
        "colab": {
          "base_uri": "https://localhost:8080/",
          "height": 472
        },
        "id": "Xauv8DrJ7XrP",
        "outputId": "7c308dc6-94f5-4895-e45b-a22fba114b57"
      },
      "outputs": [
        {
          "output_type": "display_data",
          "data": {
            "text/plain": [
              "<Figure size 640x480 with 1 Axes>"
            ],
            "image/png": "[encoded data removed]"
          },
          "metadata": {}
        }
      ],
      "source": [
        "\n",
        "plt.plot(epochs,training_history.history['val_accuracy'],color='blue')\n",
        "plt.xlabel('No. of Epochs')\n",
        "plt.ylabel('Validation Accuracy')\n",
        "plt.title('Visualization of Validation Accuracy Result')\n",
        "plt.show()"
      ]
    },
    {
      "cell_type": "markdown",
      "metadata": {
        "id": "7RXSNHYfNz3M"
      },
      "source": [
        "#Test set Evaluation"
      ]
    },
    {
      "cell_type": "code",
      "execution_count": null,
      "metadata": {
        "colab": {
          "base_uri": "https://localhost:8080/"
        },
        "id": "zE0Hm2M77dov",
        "outputId": "89df90bf-2744-4bda-d13a-7a237ec72178"
      },
      "outputs": [
        {
          "output_type": "stream",
          "name": "stdout",
          "text": [
            "Found 7527 files belonging to 8 classes.\n"
          ]
        }
      ],
      "source": [
        "test_set = tf.keras.utils.image_dataset_from_directory(\n",
        "    '/content/drive/MyDrive/archive (3)/test',\n",
        "    labels=\"inferred\",\n",
        "    label_mode=\"categorical\",\n",
        "    class_names=None,\n",
        "    color_mode=\"rgb\",\n",
        "    batch_size=32,\n",
        "    image_size=(64, 64),\n",
        "    shuffle=True,\n",
        "    seed=None,\n",
        "    validation_split=None,\n",
        "    subset=None,\n",
        "    interpolation=\"bilinear\",\n",
        "    follow_links=False,\n",
        "    crop_to_aspect_ratio=False\n",
        ")\n"
      ]
    },
    {
      "cell_type": "code",
      "execution_count": null,
      "metadata": {
        "colab": {
          "base_uri": "https://localhost:8080/"
        },
        "id": "cmSRE4kf7h9Y",
        "outputId": "fa307dfc-423f-4b63-d1cd-b4090d661e90"
      },
      "outputs": [
        {
          "output_type": "stream",
          "name": "stdout",
          "text": [
            "236/236 [==============================] - 739s 3s/step - loss: 0.0248 - accuracy: 0.9936\n",
            "Test accuracy: 0.9936229586601257\n"
          ]
        }
      ],
      "source": [
        "\n",
        "\n",
        "test_loss,test_acc = cnn.evaluate(test_set)\n",
        "print('Test accuracy:', test_acc)"
      ]
    }
  ],
  "metadata": {
    "colab": {
      "provenance": []
    },
    "kernelspec": {
      "display_name": "Python 3",
      "name": "python3"
    },
    "language_info": {
      "name": "python"
    }
  },
  "nbformat": 4,
  "nbformat_minor": 0
}